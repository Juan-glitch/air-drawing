{
 "cells": [
  {
   "cell_type": "markdown",
   "metadata": {},
   "source": [
    "RNNs are used over point sequence to predict whether the user wanted to have the pencil up or pencil down"
   ]
  },
  {
   "cell_type": "code",
   "execution_count": 1,
   "metadata": {},
   "outputs": [],
   "source": [
    "import torch\n",
    "import pandas as pd\n",
    "import numpy as np\n",
    "import matplotlib.pyplot as plt\n",
    "from tqdm import tqdm\n",
    "import wandb\n",
    "import cv2\n",
    "from os import listdir\n",
    "from contextlib import ExitStack\n",
    "from sklearn.metrics import precision_score, recall_score, f1_score, accuracy_score"
   ]
  },
  {
   "cell_type": "code",
   "execution_count": 2,
   "metadata": {},
   "outputs": [
    {
     "name": "stdout",
     "output_type": "stream",
     "text": [
      "1.9.0+cu102\n"
     ]
    }
   ],
   "source": [
    "print(torch.__version__)"
   ]
  },
  {
   "cell_type": "markdown",
   "metadata": {},
   "source": [
    "# Dataset"
   ]
  },
  {
   "cell_type": "code",
   "execution_count": 3,
   "metadata": {},
   "outputs": [],
   "source": [
    "class DrawingsDS(torch.utils.data.Dataset):\n",
    "    def __init__(self, folder=\"../../data/processed_labeled/\"):\n",
    "        self.folder = folder\n",
    "        self.ds = []\n",
    "        self.n = 6\n",
    "        for f in listdir(self.folder):\n",
    "            self.ds.append(self.load_file(f))\n",
    "        \n",
    "        self.compute_mean()\n",
    "        self.compute_std()\n",
    "        \n",
    "        for f in self.ds:\n",
    "            f['input'] = (f['input'] - self.mean)/self.std\n",
    "        \n",
    "    def compute_mean(self):\n",
    "        self.mean = np.zeros(self.n)\n",
    "        tot = 0\n",
    "        self.y_mean = 0\n",
    "        for f in self.ds:\n",
    "            x = f['input']\n",
    "            self.mean += np.sum(x,axis=0)\n",
    "            self.y_mean += np.sum(f['output'])\n",
    "            tot += x.shape[0]\n",
    "        self.mean /= tot\n",
    "        self.y_mean /= tot\n",
    "        \n",
    "        \n",
    "    def compute_std(self):\n",
    "        variance = np.zeros(self.n)\n",
    "        tot = 0\n",
    "        for f in self.ds:\n",
    "            x = f['input'] - self.mean\n",
    "            x = np.square(x)\n",
    "            variance += np.sum(x,axis=0)\n",
    "            tot += x.shape[0]\n",
    "        variance /= tot\n",
    "        self.std = np.sqrt(variance)\n",
    "        \n",
    "    def load_file(self,f):\n",
    "        df = pd.read_csv(self.folder+f,index_col=0)\n",
    "        raw_input = df[['x','y']].to_numpy().astype(np.int)\n",
    "        inputs = df[['vx','vy','v','ax','ay','a']].to_numpy().astype(np.double).copy()\n",
    "        output = df[['label']].to_numpy().astype(np.double)\n",
    "        distance = df[['dist']].to_numpy().astype(np.double)\n",
    "        return {\n",
    "            'raw_input' : raw_input,\n",
    "            'input' : inputs,\n",
    "            'output' : output,\n",
    "            'name': f,\n",
    "            'dist': distance\n",
    "        }\n",
    "    \n",
    "    def __len__(self):\n",
    "        return len(self.ds)\n",
    "    \n",
    "    def __getitem__(self, idx):\n",
    "        return self.ds[idx]"
   ]
  },
  {
   "cell_type": "code",
   "execution_count": 4,
   "metadata": {},
   "outputs": [
    {
     "name": "stdout",
     "output_type": "stream",
     "text": [
      "[ 4.02705672e-01 -3.64267352e-01  1.45071593e+01 -1.34526336e-02\n",
      "  1.64587564e-01  9.20813371e+00]\n",
      "0.5606161200371796\n",
      "[16.00648243 14.28259791 15.81256695 14.97948971 12.13628675 16.9384802 ]\n",
      "(197, 6)\n",
      "(197, 1)\n"
     ]
    }
   ],
   "source": [
    "dataset = DrawingsDS()\n",
    "print(dataset.mean)\n",
    "print(dataset.y_mean)\n",
    "print(dataset.std)\n",
    "print(dataset[0]['input'].shape)\n",
    "print(dataset[0]['output'].shape)\n",
    "train_set, test_set = torch.utils.data.random_split(dataset,(50,10))"
   ]
  },
  {
   "cell_type": "code",
   "execution_count": 5,
   "metadata": {},
   "outputs": [],
   "source": [
    "def visualize(sample,pred):\n",
    "    sample_output = np.squeeze(pred)\n",
    "    pts = sample['raw_input'][sample_output == True]\n",
    "\n",
    "    img = np.zeros((720,1280), dtype=np.uint8)\n",
    "    img[pts.T[1],pts.T[0]]=255\n",
    "    img = cv2.flip(img, 1)\n",
    "\n",
    "    cv2.imshow('frame', img)\n",
    "    key = cv2.waitKey(0)\n",
    "    cv2.destroyAllWindows()"
   ]
  },
  {
   "cell_type": "markdown",
   "metadata": {},
   "source": [
    "# Model"
   ]
  },
  {
   "cell_type": "code",
   "execution_count": 6,
   "metadata": {},
   "outputs": [],
   "source": [
    "class AttnBlock(torch.nn.Module):\n",
    "    def __init__(self,in_features,num_heads,out_features): \n",
    "        super(AttnBlock, self).__init__()\n",
    "        self.attn = torch.nn.MultiheadAttention(\n",
    "            embed_dim = in_features,\n",
    "            num_heads = num_heads,\n",
    "            batch_first = True\n",
    "        )\n",
    "        self.fwd = torch.nn.Sequential(\n",
    "            torch.nn.Linear(in_features=in_features,out_features=out_features),\n",
    "            torch.nn.ReLU()\n",
    "        )\n",
    "        self.relu = torch.nn.ReLU()\n",
    "    def forward(self,x):\n",
    "        return self.relu(self.fwd(self.attn(x,x,x)[0]))"
   ]
  },
  {
   "cell_type": "code",
   "execution_count": 7,
   "metadata": {},
   "outputs": [],
   "source": [
    "class RecurrentModel(torch.nn.Module):\n",
    "    def __init__(\n",
    "        self,\n",
    "        input_size=6,\n",
    "        output_size=1,\n",
    "        hidden_size_in=64,\n",
    "        hidden_size_out=32,\n",
    "        num_layers=2,\n",
    "        model=torch.nn.GRU,\n",
    "        dropout=0.2,\n",
    "        bidirectional=True\n",
    "    ):\n",
    "        super(RecurrentModel, self).__init__()\n",
    "        self.rnn = model(\n",
    "            input_size = hidden_size_in,\n",
    "            hidden_size = hidden_size_out,\n",
    "            num_layers = num_layers,\n",
    "            batch_first = True,\n",
    "            dropout = dropout,\n",
    "            bidirectional = bidirectional\n",
    "        )\n",
    "        self.before = torch.nn.Sequential(\n",
    "            torch.nn.Linear(in_features=input_size,out_features=hidden_size_in),\n",
    "            torch.nn.ReLU(),\n",
    "            torch.nn.Linear(in_features=hidden_size_in,out_features=hidden_size_in)\n",
    "        )\n",
    "        self.after = torch.nn.Sequential(\n",
    "            torch.nn.Linear(in_features=2*hidden_size_out,out_features=hidden_size_out),\n",
    "            torch.nn.ReLU(),\n",
    "            torch.nn.Linear(in_features=hidden_size_out,out_features=output_size)\n",
    "        )\n",
    "        \n",
    "    def forward(self,x):\n",
    "        output = self.before(x)\n",
    "        output, _ = self.rnn(output)\n",
    "        output = self.after(output)\n",
    "        return output"
   ]
  },
  {
   "cell_type": "code",
   "execution_count": 8,
   "metadata": {},
   "outputs": [],
   "source": [
    "class ConvRecurrentModel(torch.nn.Module):\n",
    "    def __init__(\n",
    "        self,\n",
    "        input_size=6,\n",
    "        output_size=1,\n",
    "        hidden_size_in=64,\n",
    "        hidden_size_out=32,\n",
    "        num_layers=2,\n",
    "        model=torch.nn.GRU,\n",
    "        dropout=0.2,\n",
    "        bidirectional=True\n",
    "    ):\n",
    "        super(ConvRecurrentModel, self).__init__()\n",
    "        self.rnn = model(\n",
    "            input_size = hidden_size_in,\n",
    "            hidden_size = hidden_size_out,\n",
    "            num_layers = num_layers,\n",
    "            batch_first = True,\n",
    "            dropout = dropout,\n",
    "            bidirectional = bidirectional\n",
    "        )\n",
    "        self.before = torch.nn.Sequential(\n",
    "            torch.nn.Conv1d(in_channels=input_size,out_channels=hidden_size_in//2,kernel_size=3,padding=1),\n",
    "            torch.nn.ReLU(),\n",
    "            torch.nn.Conv1d(in_channels=hidden_size_in//2,out_channels=hidden_size_in//2,kernel_size=3,padding=1),\n",
    "            torch.nn.ReLU(),\n",
    "            torch.nn.Conv1d(in_channels=hidden_size_in//2,out_channels=hidden_size_in,kernel_size=3,padding=1)\n",
    "        )\n",
    "        self.after = torch.nn.Sequential(\n",
    "            torch.nn.Conv1d(in_channels=2*hidden_size_out,out_channels=hidden_size_out,kernel_size=3,padding=1),\n",
    "            torch.nn.ReLU(),\n",
    "            torch.nn.Conv1d(in_channels=hidden_size_out,out_channels=hidden_size_out,kernel_size=3,padding=1),\n",
    "            torch.nn.ReLU(),\n",
    "            torch.nn.Conv1d(in_channels=hidden_size_out,out_channels=hidden_size_out//2,kernel_size=3,padding=1)\n",
    "        )\n",
    "        self.fc = torch.nn.Linear(in_features=hidden_size_out//2,out_features=output_size)\n",
    "        \n",
    "    def forward(self,x):\n",
    "        x = torch.transpose(x,1,2)\n",
    "        output = self.before(x)\n",
    "        \n",
    "        output = torch.transpose(output,2,1)\n",
    "        output, _ = self.rnn(output)\n",
    "        \n",
    "        output = torch.transpose(output,2,1)\n",
    "        output = self.after(output)\n",
    "        \n",
    "        output = torch.transpose(output,2,1)\n",
    "        output = self.fc(output)\n",
    "        return output"
   ]
  },
  {
   "cell_type": "code",
   "execution_count": 9,
   "metadata": {},
   "outputs": [
    {
     "name": "stdout",
     "output_type": "stream",
     "text": [
      "torch.Size([1, 227, 6])\n",
      "torch.Size([1, 227, 1])\n"
     ]
    }
   ],
   "source": [
    "model = ConvRecurrentModel(dataset.n).double()\n",
    "sample = torch.tensor(train_set[0]['input']).unsqueeze(0)\n",
    "print(sample.size())\n",
    "print(model(sample).size())"
   ]
  },
  {
   "cell_type": "code",
   "execution_count": 10,
   "metadata": {},
   "outputs": [
    {
     "name": "stdout",
     "output_type": "stream",
     "text": [
      "torch.Size([1, 227, 6])\n",
      "torch.Size([1, 227, 1])\n"
     ]
    }
   ],
   "source": [
    "model = RecurrentModel(dataset.n).double()\n",
    "sample = torch.tensor(train_set[0]['input']).unsqueeze(0)\n",
    "print(sample.size())\n",
    "print(model(sample).size())"
   ]
  },
  {
   "cell_type": "markdown",
   "metadata": {},
   "source": [
    "# Training"
   ]
  },
  {
   "cell_type": "code",
   "execution_count": 11,
   "metadata": {},
   "outputs": [],
   "source": [
    "def compute_metrics(pred,y):\n",
    "    pred_np = pred.squeeze().detach().numpy()\n",
    "    y_np = y.squeeze().detach().numpy()\n",
    "    accuracy = accuracy_score(y_np,pred_np)\n",
    "    precision = precision_score(y_np,pred_np,zero_division=0)\n",
    "    recall = recall_score(y_np,pred_np,zero_division=0)\n",
    "    f1 = f1_score(y_np,pred_np,zero_division=0)\n",
    "    return accuracy, precision, recall, f1\n",
    "\n",
    "def save_model(model,model_name):\n",
    "    torch.save(model.state_dict(),f\"../../models/{model_name}.pt\")\n",
    "    \n",
    "\n",
    "def epoch(loader,optimizer,model,loss,iteration_type='train',gradient_clipping=1.,name='current'):\n",
    "    if iteration_type == 'train':\n",
    "        MODEL.train()\n",
    "    if iteration_type == 'test':\n",
    "        MODEL.eval()\n",
    "\n",
    "    best_acc = 0.\n",
    "    with ExitStack() as stack:\n",
    "        if iteration_type == 'test':\n",
    "            gs = stack.enter_context(torch.no_grad())\n",
    "        \n",
    "        metrics = {\n",
    "            'loss': 0.,\n",
    "            'accuracy': 0.,\n",
    "            'precision': 0.,\n",
    "            'recall': 0.,\n",
    "            'f1': 0.\n",
    "        }\n",
    "        \n",
    "        n = len(loader)\n",
    "        for sample in loader:\n",
    "            # make predictions\n",
    "            x = sample['input']\n",
    "            y = sample['output'].squeeze()\n",
    "            dist = sample['dist'].squeeze()\n",
    "            augment = np.random.uniform(0.5,1.5) if iteration_type=='train' else 1.\n",
    "            pred = MODEL(augment*x).squeeze()\n",
    "            # compute losses\n",
    "            l = loss(pred,y)\n",
    "            # apply backprop\n",
    "            if iteration_type == 'train':\n",
    "                OPTIMIZER.zero_grad()\n",
    "                l.backward()\n",
    "                '''torch.nn.utils.clip_grad_norm_(\n",
    "                    parameters = model.parameters(),\n",
    "                    max_norm = gradient_clipping\n",
    "                )'''\n",
    "                OPTIMIZER.step()\n",
    "                \n",
    "            acc, prec, rec, f1 = compute_metrics(torch.sigmoid(pred)>0.5,y)\n",
    "            metrics['loss'] += l.item()/n\n",
    "            metrics['accuracy'] += acc/n\n",
    "            metrics['precision'] += prec/n\n",
    "            metrics['recall'] += rec/n\n",
    "            metrics['f1'] += f1/n\n",
    "        if iteration_type == 'test' and metrics['accuracy'] > best_acc:\n",
    "            save_model(model,name)\n",
    "    return metrics"
   ]
  },
  {
   "cell_type": "code",
   "execution_count": 12,
   "metadata": {},
   "outputs": [
    {
     "name": "stderr",
     "output_type": "stream",
     "text": [
      "wandb: Currently logged in as: lmagne (use `wandb login --relogin` to force relogin)\n"
     ]
    },
    {
     "data": {
      "text/html": [
       "\n",
       "                Tracking run with wandb version 0.12.1<br/>\n",
       "                Syncing run <strong style=\"color:#cdcd00\">silver-thunder-281</strong> to <a href=\"https://wandb.ai\" target=\"_blank\">Weights & Biases</a> <a href=\"https://docs.wandb.com/integrations/jupyter.html\" target=\"_blank\">(Documentation)</a>.<br/>\n",
       "                Project page: <a href=\"https://wandb.ai/lmagne/r-drawing\" target=\"_blank\">https://wandb.ai/lmagne/r-drawing</a><br/>\n",
       "                Run page: <a href=\"https://wandb.ai/lmagne/r-drawing/runs/3k63ngfy\" target=\"_blank\">https://wandb.ai/lmagne/r-drawing/runs/3k63ngfy</a><br/>\n",
       "                Run data is saved locally in <code>/home/loic/Documents/Prog/Projets/air-drawing/python-stuff/deep-learning/wandb/run-20210908_145516-3k63ngfy</code><br/><br/>\n",
       "            "
      ],
      "text/plain": [
       "<IPython.core.display.HTML object>"
      ]
     },
     "metadata": {},
     "output_type": "display_data"
    }
   ],
   "source": [
    "config = {\n",
    "    \"EPOCHS\" : 500,\n",
    "    \"BATCH_SIZE\" : 1,\n",
    "    \"LEARNING_RATE\" : 3e-4,\n",
    "    \"NUM_WORKERS\" : 2,\n",
    "    \"PIN_MEMORY\" : True,\n",
    "    \"MODEL_HIDDEN_SIZE_IN\" : 64,\n",
    "    \"MODEL_HIDDEN_SIZE_OUT\" : 32,\n",
    "    \"MODEL_NUM_LAYERS\" : 1,\n",
    "    \"WEIGHT_DECAY\" : 0.,\n",
    "    \"SCHEDULER_GAMMA\" : 1.,\n",
    "    \"SEED\" : 179428,\n",
    "    \"DROPOUT\" : 0.2,\n",
    "    \"GRADIENT_CLIPPING\" : None,\n",
    "    \"BIDIRECTIONAL\" : True,\n",
    "    \"NAME\" : 'current'\n",
    "}\n",
    "log = True\n",
    "if log:\n",
    "    run = wandb.init(project=\"r-drawing\",config=config)"
   ]
  },
  {
   "cell_type": "code",
   "execution_count": null,
   "metadata": {},
   "outputs": [
    {
     "name": "stderr",
     "output_type": "stream",
     "text": [
      "/home/loic/.local/lib/python3.8/site-packages/torch/nn/modules/rnn.py:62: UserWarning: dropout option adds dropout after all but last recurrent layer, so non-zero dropout expects num_layers greater than 1, but got dropout=0.2 and num_layers=1\n",
      "  warnings.warn(\"dropout option adds dropout after all but last \"\n",
      "  0%|          | 0/500 [00:00<?, ?it/s]/home/loic/.local/lib/python3.8/site-packages/torch/cuda/__init__.py:52: UserWarning: CUDA initialization: The NVIDIA driver on your system is too old (found version 10010). Please update your GPU driver by downloading and installing a new version from the URL: http://www.nvidia.com/Download/index.aspx Alternatively, go to: https://pytorch.org to install a PyTorch version that has been compiled with your version of the CUDA driver. (Triggered internally at  /pytorch/c10/cuda/CUDAFunctions.cpp:115.)\n",
      "  return torch._C._cuda_getDeviceCount() > 0\n",
      " 26%|██▌       | 129/500 [12:20<31:56,  5.17s/it]"
     ]
    }
   ],
   "source": [
    "# %%wandb\n",
    "\n",
    "torch.manual_seed(config[\"SEED\"])\n",
    "np.random.seed(config[\"SEED\"])\n",
    "\n",
    "dataset = DrawingsDS()\n",
    "train_set, test_set = torch.utils.data.random_split(dataset,(50,10))\n",
    "\n",
    "MODEL = ConvRecurrentModel(\n",
    "    input_size = dataset.n,\n",
    "    hidden_size_in = config[\"MODEL_HIDDEN_SIZE_IN\"],\n",
    "    hidden_size_out = config[\"MODEL_HIDDEN_SIZE_OUT\"],\n",
    "    num_layers = config[\"MODEL_NUM_LAYERS\"],\n",
    "    dropout = config[\"DROPOUT\"],\n",
    "    model=torch.nn.GRU\n",
    ").double()\n",
    "# MODEL.load_state_dict(torch.load(\"../../models/84_3.pt\"))\n",
    "\n",
    "LOSS = torch.nn.BCEWithLogitsLoss(pos_weight = torch.tensor([1./dataset.y_mean]))\n",
    "\n",
    "OPTIMIZER = torch.optim.Adam(\n",
    "    MODEL.parameters(),\n",
    "    lr = config[\"LEARNING_RATE\"],\n",
    "    weight_decay = config[\"WEIGHT_DECAY\"]\n",
    ")\n",
    "\n",
    "\"\"\"\n",
    "OPTIMIZER = torch.optim.SGD(\n",
    "    MODEL.parameters(),\n",
    "    lr = config[\"LEARNING_RATE\"],\n",
    "    momentum = 0.9,\n",
    "    nesterov = True\n",
    ")\n",
    "\"\"\"\n",
    "\n",
    "SCHEDULER = torch.optim.lr_scheduler.StepLR(\n",
    "    OPTIMIZER,\n",
    "    step_size = 250,\n",
    "    gamma = config[\"SCHEDULER_GAMMA\"]\n",
    ")\n",
    "\n",
    "\n",
    "train_loader = torch.utils.data.DataLoader(\n",
    "    train_set,\n",
    "    batch_size = config[\"BATCH_SIZE\"],\n",
    "    num_workers = config[\"NUM_WORKERS\"],\n",
    "    pin_memory = config[\"PIN_MEMORY\"],\n",
    "    shuffle = True\n",
    ")\n",
    "\n",
    "test_loader = torch.utils.data.DataLoader(\n",
    "    test_set,\n",
    "    batch_size = config[\"BATCH_SIZE\"],\n",
    "    num_workers = config[\"NUM_WORKERS\"],\n",
    "    pin_memory = config[\"PIN_MEMORY\"],\n",
    "    shuffle = True\n",
    ")\n",
    "\n",
    "train_loss = []\n",
    "test_loss = []\n",
    "train_acc = []\n",
    "test_acc = []\n",
    "\n",
    "if log:\n",
    "    wandb.watch(MODEL)\n",
    "\n",
    "for k in tqdm(range(config[\"EPOCHS\"])):\n",
    "    train_metrics = epoch(train_loader,OPTIMIZER,MODEL,LOSS,'train',config[\"GRADIENT_CLIPPING\"])\n",
    "    test_metrics = epoch(test_loader,OPTIMIZER,MODEL,LOSS,'test',name=config[\"NAME\"])\n",
    "    if log:\n",
    "        wandb.log({\n",
    "            \"loss_train\" : train_metrics[\"loss\"],\n",
    "            \"loss_test\" : test_metrics[\"loss\"],\n",
    "            \"accuracy_train\" : train_metrics[\"accuracy\"],\n",
    "            \"accuracy_test\" : test_metrics[\"accuracy\"],\n",
    "            \"precision_train\" : train_metrics[\"precision\"],\n",
    "            \"precision_test\" : test_metrics[\"precision\"],\n",
    "            \"recall_train\" : train_metrics[\"recall\"],\n",
    "            \"recall_test\" : test_metrics[\"recall\"],\n",
    "            \"f1_train\" : train_metrics[\"f1\"],\n",
    "            \"f1_test\" : test_metrics[\"f1\"]\n",
    "        })\n",
    "    SCHEDULER.step()\n",
    "\n",
    "if log:\n",
    "    run.finish()"
   ]
  },
  {
   "cell_type": "code",
   "execution_count": null,
   "metadata": {},
   "outputs": [],
   "source": [
    "for k in range(10):\n",
    "    sample = test_set[k]\n",
    "    print(sample['name'])\n",
    "    x = torch.tensor(sample['input']).unsqueeze(0)\n",
    "    pred = (torch.sigmoid(MODEL(x)) > 0.5).detach().numpy()\n",
    "    visualize(sample,pred)\n",
    "    visualize(sample,sample['output'])"
   ]
  },
  {
   "cell_type": "code",
   "execution_count": null,
   "metadata": {},
   "outputs": [],
   "source": [
    "# torch.save(MODEL.state_dict(), \"../../models/84_3.pt\")"
   ]
  },
  {
   "cell_type": "code",
   "execution_count": null,
   "metadata": {},
   "outputs": [],
   "source": []
  }
 ],
 "metadata": {
  "kernelspec": {
   "display_name": "Python 3",
   "language": "python",
   "name": "python3"
  },
  "language_info": {
   "codemirror_mode": {
    "name": "ipython",
    "version": 3
   },
   "file_extension": ".py",
   "mimetype": "text/x-python",
   "name": "python",
   "nbconvert_exporter": "python",
   "pygments_lexer": "ipython3",
   "version": "3.8.10"
  }
 },
 "nbformat": 4,
 "nbformat_minor": 4
}
